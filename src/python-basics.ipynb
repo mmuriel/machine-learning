{
 "cells": [
  {
   "cell_type": "markdown",
   "id": "904455c6-026d-4618-b8cc-62427dbab772",
   "metadata": {},
   "source": [
    "# Python Basics\n",
    "\n",
    "Este notebook tiene por objetivo recordar los elementos básicos de operación con el lenguaje de programación Python."
   ]
  },
  {
   "cell_type": "markdown",
   "id": "e16fe494-5c50-44f4-b23d-d8d05411dfe6",
   "metadata": {},
   "source": [
    "## 0. Importa Las Librerías"
   ]
  },
  {
   "cell_type": "code",
   "execution_count": 3,
   "id": "9e38286d-9726-469a-9e05-5ddd9eaa5b20",
   "metadata": {},
   "outputs": [],
   "source": [
    "import numpy as np\n",
    "import pandas as pd"
   ]
  },
  {
   "cell_type": "markdown",
   "id": "64147512-457b-48a9-a5e6-7de943921e4c",
   "metadata": {},
   "source": [
    "## 1. Tipos Primitivos"
   ]
  },
  {
   "cell_type": "code",
   "execution_count": 24,
   "id": "70329841-d994-429f-8bdf-8a295eed3d15",
   "metadata": {},
   "outputs": [
    {
     "name": "stdout",
     "output_type": "stream",
     "text": [
      "El tipo de num1 es:  <class 'int'>\n",
      "El tipo de num2 es:  <class 'float'>\n",
      "El tipo de numi es:  <class 'complex'>\n",
      "El tipo de char1 es:  <class 'str'>\n"
     ]
    }
   ],
   "source": [
    "num1 = 20\n",
    "num2 = 10.4\n",
    "numi = 3 + 2j\n",
    "char1 = 'a'\n",
    "\n",
    "print(\"El tipo de num1 es: \",type(num1))\n",
    "print(\"El tipo de num2 es: \",type(num2))\n",
    "print(\"El tipo de numi es: \",type(numi))\n",
    "print(\"El tipo de char1 es: \",type(char1))"
   ]
  },
  {
   "cell_type": "markdown",
   "id": "9564ebd2-e2c1-4e2f-969b-a9f0f476da5e",
   "metadata": {},
   "source": [
    "## 2. Listas, Tuplas, Diccionarios Y Sets\n",
    "\n",
    "Una lista y una tupla son lo mismo desde la perspectiva funcional, al final son objetos de diferente tipo, pero tienen el mismo objetivo, servir de contenedores de datos (no necesariamente del mismo tipo). Sintácticamente se diferencian en su creación por el uso de paréntesis (las tuplas) y los corchetes (las listas). Se accede a datos con índices numéricos.\n",
    "\n",
    "La diferencia más determinante (hasta ahora aprendida) es que las tuplas son inmutables y las listas son mutables OJO!\n",
    "\n",
    "Los diccionarios son como los \"arreglos asociativos\" es php, es decir, también son contenedores de datos (de tipo múltiple), pero en lugar de acceder a los datos mediantes indices numéricos, se accede mediante índices alfanuméricos. Se inicializa (define) con los caracteres \"llaves\" {}\n",
    "\n",
    "Los sets (set), son colecciones de datos NO ORDENADOS, es decir, que no se accede a los datos con indices numéricos ni tampoco índices alfanuméricos, funcionan como colecciones de datos que aseguran la existencia de un solo valor en el conjunto de datos, por ejemplo, si se intenta generar un set con los siguientes datos\n",
    "\n",
    "set_a = {7,-1,\"Hola\",0,'b',7,-4,0}\n",
    "\n",
    "El objeto creado tendrá los siguientes elementos únicamente:\n",
    "\n",
    "{7,-1,\"Hola\",0,'b',-4}\n",
    "\n",
    "Por que los valores 7 y 0 en los datos de inicialización se encuentran repetidos, un objeto set se asegura de no tener datos repetidos."
   ]
  },
  {
   "cell_type": "code",
   "execution_count": 25,
   "id": "3088772a-f3c5-4b69-92df-458c018a7495",
   "metadata": {},
   "outputs": [
    {
     "name": "stdout",
     "output_type": "stream",
     "text": [
      "El tipo de tupla1 es:  <class 'tuple'>\n",
      "El tipo de lista1 es:  <class 'list'>\n",
      "El tipo de dic1 es:  <class 'dict'>\n"
     ]
    },
    {
     "data": {
      "text/plain": [
       "(2, 3)"
      ]
     },
     "execution_count": 25,
     "metadata": {},
     "output_type": "execute_result"
    }
   ],
   "source": [
    "# Las listas y las tuplas son lo más parecidos a los arreglos en php\n",
    "tupla1 = (2,3,'Hola Mundo','SIBA','MMA',3.5,10,0,-0.5)\n",
    "print(\"El tipo de tupla1 es: \",type(tupla1))\n",
    "\n",
    "lista1 = [2,3,'Hola Mundo','SIBA','MMA',3.5,10,0,-0.5]\n",
    "print(\"El tipo de lista1 es: \",type(lista1))\n",
    "\n",
    "# Los diccionarios son lo más parecido a los arraglos asociativos en php\n",
    "dic1 = {\n",
    "    'a' : 'Primer valor',\n",
    "    'b' : 'Segundo valor',\n",
    "    'c' : 200,\n",
    "    'd' : 34.23\n",
    "}\n",
    "\n",
    "print(\"El tipo de dic1 es: \",type(dic1))\n",
    "\n",
    "# tomando porciones de las tuplas y listas\n",
    "tupla1[0:2]"
   ]
  },
  {
   "cell_type": "code",
   "execution_count": 26,
   "id": "b5071c77-410a-44c6-b9e2-b29e1f71bbf9",
   "metadata": {},
   "outputs": [
    {
     "name": "stdout",
     "output_type": "stream",
     "text": [
      "El segundo elemento de la Tupla:  3\n",
      "El tercer elemento de la Lista:  Hola Mundo\n",
      "El elemento \"a\" del Diccionario es:  Primer valor\n"
     ]
    }
   ],
   "source": [
    "#Accediendo a los datos en los diferentes tipos de datos\n",
    "print('El segundo elemento de la Tupla: ',tupla1[1])\n",
    "print('El tercer elemento de la Lista: ',lista1[2])\n",
    "print('El elemento \"a\" del Diccionario es: ',dic1['a'])"
   ]
  },
  {
   "cell_type": "markdown",
   "id": "9546b280-3cc0-4231-b363-2a7df6c3a6bb",
   "metadata": {},
   "source": [
    "### 3. Cambiando tipos de datos (Casting)"
   ]
  },
  {
   "cell_type": "code",
   "execution_count": 27,
   "id": "0b16486f-8b5d-4398-a11f-91af24eb35e0",
   "metadata": {},
   "outputs": [
    {
     "name": "stdout",
     "output_type": "stream",
     "text": [
      "El tipo de la variable a es float en este punto:  <class 'float'>\n",
      "El tipo de la variable a es integer luego de realizar el cambio de tipo (casting):  <class 'int'>\n"
     ]
    }
   ],
   "source": [
    "a = 3.68\n",
    "print (\"El tipo de la variable a es float en este punto: \",type(a)) #Tipo de dato Float\n",
    "a = int(a) #Casting a valor entero\n",
    "print (\"El tipo de la variable a es integer luego de realizar el cambio de tipo (casting): \",type(a))"
   ]
  },
  {
   "cell_type": "code",
   "execution_count": 28,
   "id": "027a19df-6c07-4e00-9752-885649b3bf37",
   "metadata": {},
   "outputs": [
    {
     "data": {
      "text/plain": [
       "9.99"
      ]
     },
     "execution_count": 28,
     "metadata": {},
     "output_type": "execute_result"
    }
   ],
   "source": [
    "5 + 4.99"
   ]
  },
  {
   "cell_type": "code",
   "execution_count": 29,
   "id": "aa1b595c-4d68-4092-bdc0-79f23d47817d",
   "metadata": {},
   "outputs": [
    {
     "data": {
      "text/plain": [
       "6.6000000000000005"
      ]
     },
     "execution_count": 29,
     "metadata": {},
     "output_type": "execute_result"
    }
   ],
   "source": [
    "12 * 0.55"
   ]
  },
  {
   "cell_type": "code",
   "execution_count": 30,
   "id": "637c7c3f-52b8-42a0-9391-29907d9c3258",
   "metadata": {},
   "outputs": [],
   "source": [
    "a = [2, 3,7, -1, 2, 0, -1, 8]"
   ]
  },
  {
   "cell_type": "code",
   "execution_count": 31,
   "id": "b8446b93-faa8-4ed8-b22b-538b5b863d35",
   "metadata": {},
   "outputs": [
    {
     "data": {
      "text/plain": [
       "list"
      ]
     },
     "execution_count": 31,
     "metadata": {},
     "output_type": "execute_result"
    }
   ],
   "source": [
    "type(a)"
   ]
  },
  {
   "cell_type": "code",
   "execution_count": 32,
   "id": "42b8d787-e2b0-42dc-8ad2-0d2078c43b70",
   "metadata": {},
   "outputs": [],
   "source": [
    "vector1 = np.array(a)"
   ]
  },
  {
   "cell_type": "code",
   "execution_count": 33,
   "id": "ec49ba0b-d5b8-4d58-bf64-b9263a4e1f0a",
   "metadata": {},
   "outputs": [
    {
     "data": {
      "text/plain": [
       "numpy.ndarray"
      ]
     },
     "execution_count": 33,
     "metadata": {},
     "output_type": "execute_result"
    }
   ],
   "source": [
    "type(vector1)"
   ]
  },
  {
   "cell_type": "code",
   "execution_count": 34,
   "id": "0051eecf-6db8-4222-a3d9-bfa4402c0637",
   "metadata": {},
   "outputs": [
    {
     "data": {
      "text/plain": [
       "array([ 2,  3,  7, -1,  2,  0, -1,  8])"
      ]
     },
     "execution_count": 34,
     "metadata": {},
     "output_type": "execute_result"
    }
   ],
   "source": [
    "vector1"
   ]
  },
  {
   "cell_type": "code",
   "execution_count": 35,
   "id": "f30f045f-f670-46fb-b51d-5275d6512fbc",
   "metadata": {},
   "outputs": [
    {
     "data": {
      "text/plain": [
       "array([ 2.5,  3.5,  7.5, -0.5,  2.5,  0.5, -0.5,  8.5])"
      ]
     },
     "execution_count": 35,
     "metadata": {},
     "output_type": "execute_result"
    }
   ],
   "source": [
    "vector1 + (2/4)"
   ]
  },
  {
   "cell_type": "markdown",
   "id": "55a7e8b6-bd22-4f77-af71-a3b40013f37b",
   "metadata": {},
   "source": [
    "### 4. Ciclos en Python"
   ]
  },
  {
   "cell_type": "code",
   "execution_count": 36,
   "id": "880afd30-28ba-440e-931b-30b61c660b18",
   "metadata": {},
   "outputs": [
    {
     "name": "stdout",
     "output_type": "stream",
     "text": [
      "0\n",
      "1\n",
      "2\n",
      "3\n",
      "4\n",
      "5\n",
      "6\n",
      "7\n",
      "8\n",
      "9\n",
      "10\n",
      "11\n",
      "12\n",
      "13\n",
      "14\n",
      "15\n",
      "16\n",
      "17\n",
      "18\n",
      "19\n"
     ]
    }
   ],
   "source": [
    "# Usando una instrución for con una instrucción range()\n",
    "for i in range(20):\n",
    "    print(i)"
   ]
  },
  {
   "cell_type": "code",
   "execution_count": 37,
   "id": "aa03a1cf-2ef7-42ef-a550-06a73b8b8ea8",
   "metadata": {},
   "outputs": [
    {
     "name": "stdout",
     "output_type": "stream",
     "text": [
      "\n",
      "======================\n",
      "\n",
      "El item:  2\n",
      "El item:  3\n",
      "El item:  -1\n",
      "El item:  0\n",
      "El item:  4\n",
      "El item:  -2\n",
      "El item:  9\n",
      "El item:  11\n",
      "El item:  4\n",
      "El item:  -2\n",
      "El item:  5\n",
      "\n",
      "======================\n",
      "\n",
      "[Indice:  0 ] El item:  2\n",
      "[Indice:  1 ] El item:  3\n",
      "[Indice:  2 ] El item:  -1\n",
      "[Indice:  3 ] El item:  0\n",
      "[Indice:  4 ] El item:  4\n",
      "[Indice:  5 ] El item:  -2\n",
      "[Indice:  6 ] El item:  9\n",
      "[Indice:  7 ] El item:  11\n",
      "[Indice:  8 ] El item:  4\n",
      "[Indice:  9 ] El item:  -2\n",
      "[Indice:  10 ] El item:  5\n"
     ]
    }
   ],
   "source": [
    "list2 = [2, 3, -1, 0, 4, -2, 9, 11, 4, -2, 5]\n",
    "print(\"\\n======================\\n\")\n",
    "\n",
    "# Sin enumerate, es decir, ejecutando el elemento iterable directamente\n",
    "for ele in list2:\n",
    "    print(\"El item: \", ele,)\n",
    "\n",
    "print(\"\\n======================\\n\")\n",
    "\n",
    "# Usando Enumerate para tomar el indice del objeto iterable\n",
    "for i,ele in enumerate(list2):\n",
    "    print(\"[Indice: \",i,\"] El item: \", ele,) "
   ]
  },
  {
   "cell_type": "markdown",
   "id": "d3120c58-ef8a-4cf1-8739-c8e7a8b9f134",
   "metadata": {},
   "source": [
    "### 5. Funciones en Python\n",
    "\n",
    "Para definir una función en python, se usa la palabra reservada: **def** "
   ]
  },
  {
   "cell_type": "code",
   "execution_count": 38,
   "id": "2bac6a5f-2c8d-4942-bebe-aa19f690fdb3",
   "metadata": {},
   "outputs": [],
   "source": [
    "def fnc1():\n",
    "    #Cuerpo de la función\n",
    "    return 1\n",
    "\n",
    "def calc_square (base : int) -> float :\n",
    "    square = base*base\n",
    "    print(\"The square of %d is\"%base,square)\n",
    "    return square"
   ]
  },
  {
   "cell_type": "code",
   "execution_count": 39,
   "id": "aa7ed8ea-8216-49e5-86c8-bf2bcf06aabb",
   "metadata": {},
   "outputs": [
    {
     "name": "stdout",
     "output_type": "stream",
     "text": [
      "The square of 3 is 9\n",
      "El tipo de dato de calc_square(3) es <class 'int'>\n",
      "El valor retornado de la funcion fnc1() es...  1\n",
      "Calculando el cuadrado de 3.000000 que es: 9\n"
     ]
    }
   ],
   "source": [
    "#Operando las funciones\n",
    "base = 3\n",
    "cuadradoDe3 = calc_square(base)\n",
    "print(\"El tipo de dato de calc_square(3) es\",type(cuadradoDe3))\n",
    "print(\"El valor retornado de la funcion fnc1() es... \", fnc1())\n",
    "print(\"Calculando el cuadrado de %f que es:\"%base,cuadradoDe3)"
   ]
  },
  {
   "cell_type": "markdown",
   "id": "1822dea5-c9a8-499e-bd61-4632f48eb90a",
   "metadata": {},
   "source": [
    "### Mención Especial Para Funciones Lambda\n",
    "\n",
    "Las funciones Lambda son la forma de definición de función anónima en python cuando esta (la función), solo incluye una instrucción. La estructura de la definición de una función lambda es:\n",
    "\n",
    "      Variable     Palabra   Parametros     Expresión\n",
    "    contenedora   Reservada      |        (Instrucción)\n",
    "        |             |          |              |\n",
    "        |             |          |              |\n",
    "        V             V          V              V\n",
    "multiplicar_numeros = lambda  param1,param2: param1 * param2\n",
    "\n",
    "Se usa invocando la función anónima almacenada en la variable contenedora así:\n",
    "\n",
    "multiplicar_numeros (3,4) ***Retorna el número 12***\n",
    "\n",
    "multiplicar_numeros (7,2) ***Retorna el número 14***"
   ]
  },
  {
   "cell_type": "code",
   "execution_count": 40,
   "id": "f22f72a2-61fd-47b7-9a51-83847b5f695e",
   "metadata": {},
   "outputs": [
    {
     "name": "stdout",
     "output_type": "stream",
     "text": [
      "4\n",
      "16\n",
      "49\n"
     ]
    }
   ],
   "source": [
    "lambda_square = lambda x: x*x\n",
    "\n",
    "print(lambda_square(2))\n",
    "print(lambda_square(4))\n",
    "print(lambda_square(7))"
   ]
  },
  {
   "cell_type": "markdown",
   "id": "627d2929-07c8-4ad6-b419-d00d66060093",
   "metadata": {},
   "source": [
    "### 6. Clases y Objetos En Python"
   ]
  },
  {
   "cell_type": "code",
   "execution_count": 41,
   "id": "651105fd-62de-4762-a386-3b06e6911000",
   "metadata": {},
   "outputs": [
    {
     "name": "stdout",
     "output_type": "stream",
     "text": [
      "<class '__main__.Auto'>\n",
      "El color del Auto es: Verde\n",
      "El cilindraje del Auto es: 1000\n",
      "El tipo del Auto es: Camioneta\n",
      "La cantidad de ruedas en el Auto es: 4\n",
      "\n",
      "==========================================\n",
      "\n",
      "Los datos del auto son los siguientes: \n",
      "Color: Verde\n",
      "Cilindraje: 1000\n",
      "Tipo: Camioneta\n",
      "\n",
      "<class '__main__.Auto'>\n",
      "El color del Auto es: Azul\n",
      "El cilindraje del Auto es: 1200\n",
      "El tipo del Auto es: Automovil\n",
      "La cantidad de ruedas en el Auto es: 6\n",
      "\n",
      "==========================================\n",
      "\n",
      "Los datos del auto son los siguientes: \n",
      "Color: Azul\n",
      "Cilindraje: 1200\n",
      "Tipo: Automovil\n",
      "\n"
     ]
    }
   ],
   "source": [
    "class Auto:\n",
    "    ruedas = 4 # Variable de Clase\n",
    "    def __init__(self,color,cc,tipo):\n",
    "        self.color = color\n",
    "        self.cc = cc\n",
    "        self.tipo = tipo\n",
    "    def getAutoInfo(self):\n",
    "        return \"Los datos del auto son los siguientes: \\nColor: \"+self.color+\"\\nCilindraje: \"+str(self.cc)+\"\\nTipo: \"+self.tipo+\"\\n\"\n",
    "\n",
    "auto_verde = Auto('Verde',1000,'Camioneta')\n",
    "print(type(auto_verde))\n",
    "print(\"El color del Auto es: %s\"%auto_verde.color)\n",
    "print(\"El cilindraje del Auto es: %d\"%auto_verde.cc)\n",
    "print(\"El tipo del Auto es: %s\"%auto_verde.tipo)\n",
    "print(\"La cantidad de ruedas en el Auto es: %s\"%auto_verde.ruedas)\n",
    "print(\"\\n==========================================\\n\")\n",
    "print(auto_verde.getAutoInfo())\n",
    "\n",
    "\n",
    "Auto.ruedas = 6\n",
    "auto_azul = Auto('Azul',1200,'Automovil')\n",
    "print(type(auto_azul))\n",
    "print(\"El color del Auto es: %s\"%auto_azul.color)\n",
    "print(\"El cilindraje del Auto es: %d\"%auto_azul.cc)\n",
    "print(\"El tipo del Auto es: %s\"%auto_azul.tipo)\n",
    "print(\"La cantidad de ruedas en el Auto es: %s\"%auto_azul.ruedas)\n",
    "print(\"\\n==========================================\\n\")\n",
    "print(auto_azul.getAutoInfo())"
   ]
  },
  {
   "cell_type": "code",
   "execution_count": 42,
   "id": "8b56ef6a-1c71-4c90-9f50-34b9b2556d29",
   "metadata": {},
   "outputs": [
    {
     "name": "stdout",
     "output_type": "stream",
     "text": [
      "['__class__', '__delattr__', '__dict__', '__dir__', '__doc__', '__eq__', '__format__', '__ge__', '__getattribute__', '__getstate__', '__gt__', '__hash__', '__init__', '__init_subclass__', '__le__', '__lt__', '__module__', '__ne__', '__new__', '__reduce__', '__reduce_ex__', '__repr__', '__setattr__', '__sizeof__', '__str__', '__subclasshook__', '__weakref__', 'cc', 'color', 'getAutoInfo', 'ruedas', 'tipo']\n",
      "{'color': 'Azul', 'cc': 1200, 'tipo': 'Automovil'}\n"
     ]
    }
   ],
   "source": [
    "print(dir(auto_azul))\n",
    "print(auto_azul.__dict__)"
   ]
  },
  {
   "cell_type": "markdown",
   "id": "e7390997-322d-487d-b654-fb9d567a91f3",
   "metadata": {},
   "source": [
    "### 7. Librería Numpy Para Manejo de Datos en Vectores, Marices o Tensores\n",
    "\n",
    "El elemento fundamental de la librería Numpy son los objetos **Numpy Array**, que funcionalmente son similares a las listas nativas de Python, pero con una diferencia fundamental en la forma como se almacenan los datos.\n",
    "\n",
    "En las listas de Python se pueden agregar elementos de cuqluier tipo de dato, de esta manera una lista en python puede contener elementos de tipo String, Integer, Float u otros objetos de otras clases (nativas o creadas por el usuario), el tipo de dato de cada elemento en este caso (las listas de python) se almacena en el elemento mismo de la lista, es decir, los elementos de una lista de python no solo almacenan el valor que contienen, sino que también almacenan el tipo dato, en contraste, los objetos **Numpy Array** solo almacenan elementos de un solo tipo de dato en el arreglo (Numpy Array) y el tipo de dato se almacena como un valor de cabecera del objeto **Numpy Array** de esta manera, se gana en eficiencia al momento de realizar operaciones sobre grandes volúmenes de datos, tales como: \"element-wise\" y ejecución en paralelo de tareas. "
   ]
  },
  {
   "cell_type": "code",
   "execution_count": 43,
   "id": "91322b06-94da-459b-b8f9-3506da7f87c4",
   "metadata": {},
   "outputs": [
    {
     "name": "stdout",
     "output_type": "stream",
     "text": [
      "<class 'numpy.ndarray'>\n",
      "[ -2  -4  -6   0   4 -10   4  -2   0  -8]\n",
      "[ 4  6 -3  0 14 15 -2  5  0 24]\n"
     ]
    }
   ],
   "source": [
    "nparray1 = np.array([1, 2, 3, 0, -2, 5, -2, 1, 0, 4])\n",
    "nparray2 = np.array([4, 3, -1, 2, -7, 3, 1, 5, -3, 6])\n",
    "print(type(nparray1))\n",
    "\n",
    "#Operación element-wise\n",
    "print(nparray1 * -2)\n",
    "print(nparray1 * nparray2)"
   ]
  },
  {
   "cell_type": "markdown",
   "id": "27802d12-0576-4c96-be01-877a903eb04e",
   "metadata": {},
   "source": [
    "### 8. Librería Pandas - Series y DataFrames\n",
    " \n",
    "Los elementos fundamentales de libreía Pandas son los objetos: **Series y DataFrame**, las series son arreglos de una sola dimensión con acceso a datos con indices numéricos, los DataFrames son arreglos bidimensionales con cabeceras. Son como una especie \"hojas de cáculo\", por lo menos en la forma como se distribuyen los datos en el DataFrame, cada columna en del dataframe puede ser tratada como un Serie de datos (tipo Serie).\n",
    "\n",
    "Para inicializar una serie se pueden usar objetos nativos de python del tipo Tupla o Lista. Para inicializar un DataFrame se pueden utilizar o bien datos externos como archivos csv, json o excel, u objetos nativos de python Diccionarios. "
   ]
  },
  {
   "cell_type": "code",
   "execution_count": 54,
   "id": "db4dd798-6bc4-48f8-8ec4-e7feb68df356",
   "metadata": {},
   "outputs": [
    {
     "name": "stdout",
     "output_type": "stream",
     "text": [
      "0     -2\n",
      "1      3\n",
      "2      5\n",
      "3      9\n",
      "4     10\n",
      "5    -20\n",
      "6      1\n",
      "7     -3\n",
      "8      0\n",
      "9     -3\n",
      "10     4\n",
      "11    27\n",
      "dtype: int64\n",
      "<class 'pandas.core.series.Series'>\n",
      "0     -2.0\n",
      "1      3.0\n",
      "2      5.0\n",
      "3      9.0\n",
      "4     10.0\n",
      "5    -20.0\n",
      "6      1.0\n",
      "7     -3.0\n",
      "8      0.0\n",
      "9     -3.0\n",
      "10     4.0\n",
      "11    27.0\n",
      "dtype: float64\n",
      "<class 'pandas.core.series.Series'>\n"
     ]
    }
   ],
   "source": [
    "#Jugando con Series\n",
    "pdserie_int = pd.Series([-2,3,5,9,10,-20,1,-3,0,-3,4,27]) #Definición de tipo automático, de acuerdo a los datos recibidos\n",
    "pdserie_float = pd.Series([-2,3,5,9,10,-20,1,-3,0,-3,4,27],dtype=float) #Con definición de tipo de dato\n",
    "print(pdserie_int)\n",
    "print(type(pdserie_int))\n",
    "print(pdserie_float)\n",
    "print(type(pdserie_float))"
   ]
  },
  {
   "cell_type": "code",
   "execution_count": 59,
   "id": "c48d2b96-64e8-4954-854c-69bc4806b988",
   "metadata": {},
   "outputs": [
    {
     "name": "stdout",
     "output_type": "stream",
     "text": [
      "        Fecha  Temperatura Media Lluvia\n",
      "0  2023-01-03               20.0     si\n",
      "1  2023-01-07               21.0     so\n",
      "2  2023-05-20               22.0     si\n",
      "3  2023-10-29               28.4     no\n",
      "4  2023-11-04               27.1     no\n",
      "<class 'pandas.core.frame.DataFrame'>\n"
     ]
    }
   ],
   "source": [
    "#Jugando con DataFrames\n",
    "\n",
    "#Cargando datos definidos en un Diccionario Python\n",
    "dfFromMemory = pd.DataFrame({\"Fecha\":['2023-01-03','2023-01-07','2023-05-20','2023-10-29','2023-11-04'],\"Temperatura Media\":[20,21,22,28.4,27.1],\"Lluvia\":['si','so','si','no','no']})\n",
    "print(dfFromMemory)\n",
    "print(type(dfFromMemory))"
   ]
  },
  {
   "cell_type": "code",
   "execution_count": 4,
   "id": "4f0ba36c-ee09-4e5a-9763-ea31943cf12d",
   "metadata": {},
   "outputs": [
    {
     "name": "stdout",
     "output_type": "stream",
     "text": [
      "       Registros     Peso  Duración       Fecha                  Ini  \\\n",
      "0          10357  6138999       398  2023-11-13  2023-11-13 18:25:02   \n",
      "1          11265  6692498       397  2023-07-17  2023-07-17 20:20:01   \n",
      "2          11265  6692498       395  2023-07-17  2023-07-17 20:19:02   \n",
      "3          11946  5405356       395  2023-12-05  2023-12-05 16:05:01   \n",
      "4          11946  5405356       392  2023-12-05  2023-12-05 16:05:01   \n",
      "...          ...      ...       ...         ...                  ...   \n",
      "16094        235    49584         5  2023-12-04  2023-12-04 17:37:02   \n",
      "16095        248    34906         4  2023-07-17  2023-07-17 19:26:01   \n",
      "16096         96    41092         4  2023-07-31  2023-07-31 18:18:02   \n",
      "16097        138    77152         3  2023-10-25  2023-10-25 20:06:02   \n",
      "16098        117    19805         2  2023-11-21  2023-11-21 17:12:03   \n",
      "\n",
      "                       Fin  \n",
      "0      2023-11-13 19:21:23  \n",
      "1      2023-07-17 21:02:39  \n",
      "2      2023-07-17 21:10:36  \n",
      "3      2023-12-05 17:24:37  \n",
      "4      2023-12-05 17:20:34  \n",
      "...                    ...  \n",
      "16094  2023-12-04 17:45:16  \n",
      "16095  2023-07-17 19:43:03  \n",
      "16096  2023-07-31 18:24:14  \n",
      "16097  2023-10-25 20:38:37  \n",
      "16098  2023-11-21 18:42:48  \n",
      "\n",
      "[16099 rows x 6 columns]\n",
      "<class 'pandas.core.frame.DataFrame'>\n"
     ]
    }
   ],
   "source": [
    "#Jugando con DataFrames\n",
    "\n",
    "#Cargando datos desde un archivo csv\n",
    "dfFromCsv = pd.read_csv('datos/datos-20231208.csv')\n",
    "print(dfFromCsv)\n",
    "print(type(dfFromCsv))"
   ]
  },
  {
   "cell_type": "code",
   "execution_count": 73,
   "id": "a00d9542-ecc8-4810-a169-8e850ed21c75",
   "metadata": {},
   "outputs": [
    {
     "name": "stdout",
     "output_type": "stream",
     "text": [
      "========================================================================\n",
      "Uso de la función head del DataFrame, primeros 10 registros\n",
      "========================================================================\n"
     ]
    },
    {
     "data": {
      "text/html": [
       "<div>\n",
       "<style scoped>\n",
       "    .dataframe tbody tr th:only-of-type {\n",
       "        vertical-align: middle;\n",
       "    }\n",
       "\n",
       "    .dataframe tbody tr th {\n",
       "        vertical-align: top;\n",
       "    }\n",
       "\n",
       "    .dataframe thead th {\n",
       "        text-align: right;\n",
       "    }\n",
       "</style>\n",
       "<table border=\"1\" class=\"dataframe\">\n",
       "  <thead>\n",
       "    <tr style=\"text-align: right;\">\n",
       "      <th></th>\n",
       "      <th>Registros</th>\n",
       "      <th>Peso</th>\n",
       "      <th>Duración</th>\n",
       "      <th>Fecha</th>\n",
       "      <th>Ini</th>\n",
       "      <th>Fin</th>\n",
       "    </tr>\n",
       "  </thead>\n",
       "  <tbody>\n",
       "    <tr>\n",
       "      <th>0</th>\n",
       "      <td>10357</td>\n",
       "      <td>6138999</td>\n",
       "      <td>398</td>\n",
       "      <td>2023-11-13</td>\n",
       "      <td>2023-11-13 18:25:02</td>\n",
       "      <td>2023-11-13 19:21:23</td>\n",
       "    </tr>\n",
       "    <tr>\n",
       "      <th>1</th>\n",
       "      <td>11265</td>\n",
       "      <td>6692498</td>\n",
       "      <td>397</td>\n",
       "      <td>2023-07-17</td>\n",
       "      <td>2023-07-17 20:20:01</td>\n",
       "      <td>2023-07-17 21:02:39</td>\n",
       "    </tr>\n",
       "    <tr>\n",
       "      <th>2</th>\n",
       "      <td>11265</td>\n",
       "      <td>6692498</td>\n",
       "      <td>395</td>\n",
       "      <td>2023-07-17</td>\n",
       "      <td>2023-07-17 20:19:02</td>\n",
       "      <td>2023-07-17 21:10:36</td>\n",
       "    </tr>\n",
       "    <tr>\n",
       "      <th>3</th>\n",
       "      <td>11946</td>\n",
       "      <td>5405356</td>\n",
       "      <td>395</td>\n",
       "      <td>2023-12-05</td>\n",
       "      <td>2023-12-05 16:05:01</td>\n",
       "      <td>2023-12-05 17:24:37</td>\n",
       "    </tr>\n",
       "    <tr>\n",
       "      <th>4</th>\n",
       "      <td>11946</td>\n",
       "      <td>5405356</td>\n",
       "      <td>392</td>\n",
       "      <td>2023-12-05</td>\n",
       "      <td>2023-12-05 16:05:01</td>\n",
       "      <td>2023-12-05 17:20:34</td>\n",
       "    </tr>\n",
       "    <tr>\n",
       "      <th>5</th>\n",
       "      <td>10254</td>\n",
       "      <td>6075456</td>\n",
       "      <td>389</td>\n",
       "      <td>2023-11-14</td>\n",
       "      <td>2023-11-14 16:03:02</td>\n",
       "      <td>2023-11-14 17:04:30</td>\n",
       "    </tr>\n",
       "    <tr>\n",
       "      <th>6</th>\n",
       "      <td>3703</td>\n",
       "      <td>2863675</td>\n",
       "      <td>386</td>\n",
       "      <td>2023-08-08</td>\n",
       "      <td>2023-08-08 07:20:01</td>\n",
       "      <td>2023-08-08 08:22:28</td>\n",
       "    </tr>\n",
       "    <tr>\n",
       "      <th>7</th>\n",
       "      <td>11344</td>\n",
       "      <td>6752271</td>\n",
       "      <td>386</td>\n",
       "      <td>2023-08-15</td>\n",
       "      <td>2023-08-15 18:40:02</td>\n",
       "      <td>2023-08-15 19:43:48</td>\n",
       "    </tr>\n",
       "    <tr>\n",
       "      <th>8</th>\n",
       "      <td>3703</td>\n",
       "      <td>2863675</td>\n",
       "      <td>385</td>\n",
       "      <td>2023-08-08</td>\n",
       "      <td>2023-08-08 07:20:01</td>\n",
       "      <td>2023-08-08 08:26:31</td>\n",
       "    </tr>\n",
       "    <tr>\n",
       "      <th>9</th>\n",
       "      <td>3174</td>\n",
       "      <td>2057485</td>\n",
       "      <td>385</td>\n",
       "      <td>2023-08-15</td>\n",
       "      <td>2023-08-15 18:39:02</td>\n",
       "      <td>2023-08-15 20:44:22</td>\n",
       "    </tr>\n",
       "  </tbody>\n",
       "</table>\n",
       "</div>"
      ],
      "text/plain": [
       "   Registros     Peso  Duración       Fecha                  Ini  \\\n",
       "0      10357  6138999       398  2023-11-13  2023-11-13 18:25:02   \n",
       "1      11265  6692498       397  2023-07-17  2023-07-17 20:20:01   \n",
       "2      11265  6692498       395  2023-07-17  2023-07-17 20:19:02   \n",
       "3      11946  5405356       395  2023-12-05  2023-12-05 16:05:01   \n",
       "4      11946  5405356       392  2023-12-05  2023-12-05 16:05:01   \n",
       "5      10254  6075456       389  2023-11-14  2023-11-14 16:03:02   \n",
       "6       3703  2863675       386  2023-08-08  2023-08-08 07:20:01   \n",
       "7      11344  6752271       386  2023-08-15  2023-08-15 18:40:02   \n",
       "8       3703  2863675       385  2023-08-08  2023-08-08 07:20:01   \n",
       "9       3174  2057485       385  2023-08-15  2023-08-15 18:39:02   \n",
       "\n",
       "                   Fin  \n",
       "0  2023-11-13 19:21:23  \n",
       "1  2023-07-17 21:02:39  \n",
       "2  2023-07-17 21:10:36  \n",
       "3  2023-12-05 17:24:37  \n",
       "4  2023-12-05 17:20:34  \n",
       "5  2023-11-14 17:04:30  \n",
       "6  2023-08-08 08:22:28  \n",
       "7  2023-08-15 19:43:48  \n",
       "8  2023-08-08 08:26:31  \n",
       "9  2023-08-15 20:44:22  "
      ]
     },
     "execution_count": 73,
     "metadata": {},
     "output_type": "execute_result"
    }
   ],
   "source": [
    "print(\"========================================================================\")\n",
    "print(\"Uso de la función head del DataFrame, primeros 10 registros\")\n",
    "print(\"========================================================================\")\n",
    "dfFromCsv.head(10)"
   ]
  },
  {
   "cell_type": "code",
   "execution_count": 71,
   "id": "19fac423-f919-46e2-97e1-26ee7c6f6996",
   "metadata": {},
   "outputs": [
    {
     "name": "stdout",
     "output_type": "stream",
     "text": [
      "========================================================================\n",
      "Uso de la función info del DataFrame\n",
      "========================================================================\n",
      "<class 'pandas.core.frame.DataFrame'>\n",
      "RangeIndex: 16099 entries, 0 to 16098\n",
      "Data columns (total 6 columns):\n",
      " #   Column     Non-Null Count  Dtype \n",
      "---  ------     --------------  ----- \n",
      " 0   Registros  16099 non-null  int64 \n",
      " 1   Peso       16099 non-null  int64 \n",
      " 2   Duración   16099 non-null  int64 \n",
      " 3   Fecha      16099 non-null  object\n",
      " 4   Ini        16099 non-null  object\n",
      " 5   Fin        16099 non-null  object\n",
      "dtypes: int64(3), object(3)\n",
      "memory usage: 754.8+ KB\n"
     ]
    }
   ],
   "source": [
    "print(\"========================================================================\")\n",
    "print(\"Uso de la función info del DataFrame\")\n",
    "print(\"========================================================================\")\n",
    "dfFromCsv.info()"
   ]
  },
  {
   "cell_type": "code",
   "execution_count": 77,
   "id": "234bebdb-40a2-481e-8df2-eefb0062cb29",
   "metadata": {},
   "outputs": [
    {
     "name": "stdout",
     "output_type": "stream",
     "text": [
      "========================================================================\n",
      "Uso de la función shape del DataFrame\n",
      "========================================================================\n"
     ]
    },
    {
     "data": {
      "text/plain": [
       "(16099, 6)"
      ]
     },
     "execution_count": 77,
     "metadata": {},
     "output_type": "execute_result"
    }
   ],
   "source": [
    "print(\"========================================================================\")\n",
    "print(\"Uso del atributo shape del DataFrame\")\n",
    "print(\"========================================================================\")\n",
    "dfFromCsv.shape"
   ]
  },
  {
   "cell_type": "code",
   "execution_count": 78,
   "id": "bc81e7d0-8b81-4898-81f9-8a506844d7f6",
   "metadata": {},
   "outputs": [
    {
     "name": "stdout",
     "output_type": "stream",
     "text": [
      "========================================================================\n",
      "Uso de la función to_numpy del DataFrame\n",
      "========================================================================\n"
     ]
    },
    {
     "data": {
      "text/plain": [
       "array([[10357, 6138999, 398, '2023-11-13', '2023-11-13 18:25:02',\n",
       "        '2023-11-13 19:21:23'],\n",
       "       [11265, 6692498, 397, '2023-07-17', '2023-07-17 20:20:01',\n",
       "        '2023-07-17 21:02:39'],\n",
       "       [11265, 6692498, 395, '2023-07-17', '2023-07-17 20:19:02',\n",
       "        '2023-07-17 21:10:36'],\n",
       "       ...,\n",
       "       [96, 41092, 4, '2023-07-31', '2023-07-31 18:18:02',\n",
       "        '2023-07-31 18:24:14'],\n",
       "       [138, 77152, 3, '2023-10-25', '2023-10-25 20:06:02',\n",
       "        '2023-10-25 20:38:37'],\n",
       "       [117, 19805, 2, '2023-11-21', '2023-11-21 17:12:03',\n",
       "        '2023-11-21 18:42:48']], dtype=object)"
      ]
     },
     "execution_count": 78,
     "metadata": {},
     "output_type": "execute_result"
    }
   ],
   "source": [
    "print(\"========================================================================\")\n",
    "print(\"Uso de la función to_numpy del DataFrame\")\n",
    "print(\"========================================================================\")\n",
    "dfFromCsv.to_numpy()"
   ]
  },
  {
   "cell_type": "code",
   "execution_count": 13,
   "id": "ac5cfcff-63d6-433f-a290-af436146b0e2",
   "metadata": {},
   "outputs": [
    {
     "name": "stdout",
     "output_type": "stream",
     "text": [
      "========================================================================\n",
      "Uso de la función describe del DataFrame\n",
      "========================================================================\n"
     ]
    },
    {
     "data": {
      "text/html": [
       "<div>\n",
       "<style scoped>\n",
       "    .dataframe tbody tr th:only-of-type {\n",
       "        vertical-align: middle;\n",
       "    }\n",
       "\n",
       "    .dataframe tbody tr th {\n",
       "        vertical-align: top;\n",
       "    }\n",
       "\n",
       "    .dataframe thead th {\n",
       "        text-align: right;\n",
       "    }\n",
       "</style>\n",
       "<table border=\"1\" class=\"dataframe\">\n",
       "  <thead>\n",
       "    <tr style=\"text-align: right;\">\n",
       "      <th></th>\n",
       "      <th>Registros</th>\n",
       "      <th>Peso</th>\n",
       "      <th>Duración</th>\n",
       "    </tr>\n",
       "  </thead>\n",
       "  <tbody>\n",
       "    <tr>\n",
       "      <th>count</th>\n",
       "      <td>16099.000000</td>\n",
       "      <td>1.609900e+04</td>\n",
       "      <td>16099.000000</td>\n",
       "    </tr>\n",
       "    <tr>\n",
       "      <th>mean</th>\n",
       "      <td>2042.964346</td>\n",
       "      <td>1.111980e+06</td>\n",
       "      <td>59.736505</td>\n",
       "    </tr>\n",
       "    <tr>\n",
       "      <th>std</th>\n",
       "      <td>1488.279610</td>\n",
       "      <td>9.656419e+05</td>\n",
       "      <td>49.365515</td>\n",
       "    </tr>\n",
       "    <tr>\n",
       "      <th>min</th>\n",
       "      <td>57.000000</td>\n",
       "      <td>1.980500e+04</td>\n",
       "      <td>2.000000</td>\n",
       "    </tr>\n",
       "    <tr>\n",
       "      <th>25%</th>\n",
       "      <td>972.000000</td>\n",
       "      <td>3.912220e+05</td>\n",
       "      <td>26.000000</td>\n",
       "    </tr>\n",
       "    <tr>\n",
       "      <th>50%</th>\n",
       "      <td>1565.000000</td>\n",
       "      <td>7.484650e+05</td>\n",
       "      <td>40.000000</td>\n",
       "    </tr>\n",
       "    <tr>\n",
       "      <th>75%</th>\n",
       "      <td>2883.000000</td>\n",
       "      <td>1.700513e+06</td>\n",
       "      <td>83.000000</td>\n",
       "    </tr>\n",
       "    <tr>\n",
       "      <th>max</th>\n",
       "      <td>13060.000000</td>\n",
       "      <td>7.712808e+06</td>\n",
       "      <td>398.000000</td>\n",
       "    </tr>\n",
       "  </tbody>\n",
       "</table>\n",
       "</div>"
      ],
      "text/plain": [
       "          Registros          Peso      Duración\n",
       "count  16099.000000  1.609900e+04  16099.000000\n",
       "mean    2042.964346  1.111980e+06     59.736505\n",
       "std     1488.279610  9.656419e+05     49.365515\n",
       "min       57.000000  1.980500e+04      2.000000\n",
       "25%      972.000000  3.912220e+05     26.000000\n",
       "50%     1565.000000  7.484650e+05     40.000000\n",
       "75%     2883.000000  1.700513e+06     83.000000\n",
       "max    13060.000000  7.712808e+06    398.000000"
      ]
     },
     "execution_count": 13,
     "metadata": {},
     "output_type": "execute_result"
    }
   ],
   "source": [
    "print(\"========================================================================\")\n",
    "print(\"Uso de la función describe del DataFrame\")\n",
    "print(\"========================================================================\")\n",
    "dfFromCsv.describe()\n",
    "#dfFromCsv.info()\n",
    "#dfFromCsv.dtypes()\n"
   ]
  },
  {
   "cell_type": "code",
   "execution_count": 82,
   "id": "0e870c86-362d-41d1-bc26-5990970c0b62",
   "metadata": {},
   "outputs": [
    {
     "name": "stdout",
     "output_type": "stream",
     "text": [
      "========================================================================\n",
      "Uso del atributo columns del DataFrame\n",
      "========================================================================\n"
     ]
    },
    {
     "data": {
      "text/plain": [
       "Index(['Registros', 'Peso', 'Duración', 'Fecha', 'Ini', 'Fin'], dtype='object')"
      ]
     },
     "execution_count": 82,
     "metadata": {},
     "output_type": "execute_result"
    }
   ],
   "source": [
    "print(\"========================================================================\")\n",
    "print(\"Uso del atributo columns del DataFrame\")\n",
    "print(\"========================================================================\")\n",
    "dfFromCsv.columns"
   ]
  },
  {
   "cell_type": "code",
   "execution_count": 85,
   "id": "5617ec73-5110-4ab0-ad75-609cc7473ebc",
   "metadata": {},
   "outputs": [
    {
     "name": "stdout",
     "output_type": "stream",
     "text": [
      "========================================================================\n",
      "Uso de la función unique sobre una columna (Duración) del DataFrame\n",
      "========================================================================\n"
     ]
    },
    {
     "data": {
      "text/plain": [
       "array([398, 397, 395, 392, 389, 386, 385, 384, 380, 378, 375, 374, 369,\n",
       "       367, 366, 364, 363, 361, 360, 359, 358, 355, 354, 352, 349, 346,\n",
       "       344, 340, 339, 338, 337, 336, 334, 331, 329, 328, 327, 326, 325,\n",
       "       323, 322, 321, 320, 318, 317, 314, 313, 311, 309, 308, 307, 305,\n",
       "       304, 301, 297, 296, 295, 291, 290, 289, 286, 284, 280, 279, 278,\n",
       "       275, 274, 272, 271, 269, 268, 266, 265, 264, 263, 261, 259, 258,\n",
       "       257, 255, 254, 252, 251, 250, 249, 248, 247, 246, 245, 244, 243,\n",
       "       242, 241, 240, 239, 238, 237, 235, 234, 233, 232, 231, 230, 229,\n",
       "       228, 227, 226, 225, 224, 223, 222, 221, 220, 219, 218, 217, 216,\n",
       "       215, 214, 213, 212, 211, 210, 209, 208, 207, 206, 205, 204, 203,\n",
       "       202, 201, 200, 199, 198, 197, 196, 195, 194, 193, 192, 191, 190,\n",
       "       189, 188, 187, 186, 185, 184, 183, 182, 181, 180, 179, 178, 177,\n",
       "       176, 175, 174, 173, 172, 171, 170, 169, 168, 167, 166, 165, 164,\n",
       "       163, 162, 161, 160, 159, 158, 157, 156, 155, 154, 153, 152, 151,\n",
       "       150, 149, 148, 147, 146, 145, 144, 143, 142, 141, 140, 139, 138,\n",
       "       137, 136, 135, 134, 133, 132, 131, 130, 129, 128, 127, 126, 125,\n",
       "       124, 123, 122, 121, 120, 119, 118, 117, 116, 115, 114, 113, 112,\n",
       "       111, 110, 109, 108, 107, 106, 105, 104, 103, 102, 101, 100,  99,\n",
       "        98,  97,  96,  95,  94,  93,  92,  91,  90,  89,  88,  87,  86,\n",
       "        85,  84,  83,  82,  81,  80,  79,  78,  77,  76,  75,  74,  73,\n",
       "        72,  71,  70,  69,  68,  67,  66,  65,  64,  63,  62,  61,  60,\n",
       "        59,  58,  57,  56,  55,  54,  53,  52,  51,  50,  49,  48,  47,\n",
       "        46,  45,  44,  43,  42,  41,  40,  39,  38,  37,  36,  35,  34,\n",
       "        33,  32,  31,  30,  29,  28,  27,  26,  25,  24,  23,  22,  21,\n",
       "        20,  19,  18,  17,  16,  15,  14,  13,  12,  11,  10,   9,   8,\n",
       "         7,   6,   5,   4,   3,   2])"
      ]
     },
     "execution_count": 85,
     "metadata": {},
     "output_type": "execute_result"
    }
   ],
   "source": [
    "print(\"========================================================================\")\n",
    "print(\"Uso de la función unique sobre una columna (Duración) del DataFrame\")\n",
    "print(\"========================================================================\")\n",
    "dfFromCsv['Duración'].unique()"
   ]
  },
  {
   "cell_type": "code",
   "execution_count": 91,
   "id": "863788d7-1d91-4e74-b0a2-2aa6197ae751",
   "metadata": {},
   "outputs": [
    {
     "data": {
      "text/plain": [
       "Registros                  10357\n",
       "Peso                     6138999\n",
       "Duración                     398\n",
       "Fecha                 2023-11-13\n",
       "Ini          2023-11-13 18:25:02\n",
       "Fin          2023-11-13 19:21:23\n",
       "Name: 0, dtype: object"
      ]
     },
     "execution_count": 91,
     "metadata": {},
     "output_type": "execute_result"
    }
   ],
   "source": [
    "# Recupera un registro en particular del DataFrame, en este caso, el primer registro.\n",
    "dfFromCsv.loc[0]"
   ]
  },
  {
   "cell_type": "code",
   "execution_count": 93,
   "id": "dcea6331-fa70-4451-8b7d-df2f6b97a60a",
   "metadata": {},
   "outputs": [
    {
     "data": {
      "text/html": [
       "<div>\n",
       "<style scoped>\n",
       "    .dataframe tbody tr th:only-of-type {\n",
       "        vertical-align: middle;\n",
       "    }\n",
       "\n",
       "    .dataframe tbody tr th {\n",
       "        vertical-align: top;\n",
       "    }\n",
       "\n",
       "    .dataframe thead th {\n",
       "        text-align: right;\n",
       "    }\n",
       "</style>\n",
       "<table border=\"1\" class=\"dataframe\">\n",
       "  <thead>\n",
       "    <tr style=\"text-align: right;\">\n",
       "      <th></th>\n",
       "      <th>Registros</th>\n",
       "      <th>Peso</th>\n",
       "      <th>Duración</th>\n",
       "      <th>Fecha</th>\n",
       "      <th>Ini</th>\n",
       "      <th>Fin</th>\n",
       "    </tr>\n",
       "  </thead>\n",
       "  <tbody>\n",
       "    <tr>\n",
       "      <th>1</th>\n",
       "      <td>11265</td>\n",
       "      <td>6692498</td>\n",
       "      <td>397</td>\n",
       "      <td>2023-07-17</td>\n",
       "      <td>2023-07-17 20:20:01</td>\n",
       "      <td>2023-07-17 21:02:39</td>\n",
       "    </tr>\n",
       "    <tr>\n",
       "      <th>2</th>\n",
       "      <td>11265</td>\n",
       "      <td>6692498</td>\n",
       "      <td>395</td>\n",
       "      <td>2023-07-17</td>\n",
       "      <td>2023-07-17 20:19:02</td>\n",
       "      <td>2023-07-17 21:10:36</td>\n",
       "    </tr>\n",
       "    <tr>\n",
       "      <th>3</th>\n",
       "      <td>11946</td>\n",
       "      <td>5405356</td>\n",
       "      <td>395</td>\n",
       "      <td>2023-12-05</td>\n",
       "      <td>2023-12-05 16:05:01</td>\n",
       "      <td>2023-12-05 17:24:37</td>\n",
       "    </tr>\n",
       "    <tr>\n",
       "      <th>4</th>\n",
       "      <td>11946</td>\n",
       "      <td>5405356</td>\n",
       "      <td>392</td>\n",
       "      <td>2023-12-05</td>\n",
       "      <td>2023-12-05 16:05:01</td>\n",
       "      <td>2023-12-05 17:20:34</td>\n",
       "    </tr>\n",
       "  </tbody>\n",
       "</table>\n",
       "</div>"
      ],
      "text/plain": [
       "   Registros     Peso  Duración       Fecha                  Ini  \\\n",
       "1      11265  6692498       397  2023-07-17  2023-07-17 20:20:01   \n",
       "2      11265  6692498       395  2023-07-17  2023-07-17 20:19:02   \n",
       "3      11946  5405356       395  2023-12-05  2023-12-05 16:05:01   \n",
       "4      11946  5405356       392  2023-12-05  2023-12-05 16:05:01   \n",
       "\n",
       "                   Fin  \n",
       "1  2023-07-17 21:02:39  \n",
       "2  2023-07-17 21:10:36  \n",
       "3  2023-12-05 17:24:37  \n",
       "4  2023-12-05 17:20:34  "
      ]
     },
     "execution_count": 93,
     "metadata": {},
     "output_type": "execute_result"
    }
   ],
   "source": [
    "# Recupera un grupo de registros del DataFrame, en este caso, el del 2do registro al 5to. (los indicies numericos inician en 0)\n",
    "dfFromCsv.loc[1:4]"
   ]
  },
  {
   "cell_type": "code",
   "execution_count": null,
   "id": "8719b7b7-c453-4a87-8653-ec8f7df560a5",
   "metadata": {},
   "outputs": [],
   "source": []
  }
 ],
 "metadata": {
  "kernelspec": {
   "display_name": "Python 3 (ipykernel)",
   "language": "python",
   "name": "python3"
  },
  "language_info": {
   "codemirror_mode": {
    "name": "ipython",
    "version": 3
   },
   "file_extension": ".py",
   "mimetype": "text/x-python",
   "name": "python",
   "nbconvert_exporter": "python",
   "pygments_lexer": "ipython3",
   "version": "3.12.0"
  }
 },
 "nbformat": 4,
 "nbformat_minor": 5
}
